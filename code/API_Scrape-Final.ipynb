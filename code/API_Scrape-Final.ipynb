{
 "cells": [
  {
   "cell_type": "code",
   "execution_count": 1,
   "id": "d34e9208-2a8f-454d-bf30-2729588b783b",
   "metadata": {
    "tags": []
   },
   "outputs": [],
   "source": [
    "import pandas as pd\n",
    "import requests"
   ]
  },
  {
   "cell_type": "code",
   "execution_count": 2,
   "id": "2f59ef6f-6c56-4af0-ae7a-2a69319778ba",
   "metadata": {
    "tags": []
   },
   "outputs": [],
   "source": [
    "client_id = 'PTObP6evPRZMVD650XC2HQ'\n",
    "#alphanumeric string provided under \"personal use script\"\n",
    "client_secret =  'DifxLAIxbt8wXluVX5X5oU_cxFrbvw'\n",
    "user_agent =  'Nick_app_redidit'\n",
    "username =  'krubler21'\n",
    "password =  'krubler20'"
   ]
  },
  {
   "cell_type": "code",
   "execution_count": 3,
   "id": "a701bf6e-121a-4f9b-8ec4-b8c0b9ae3c65",
   "metadata": {
    "tags": []
   },
   "outputs": [],
   "source": [
    "auth = requests.auth.HTTPBasicAuth(client_id, client_secret)\n",
    "\n",
    "data = {\n",
    "    'grant_type': 'password',\n",
    "    'username': username,\n",
    "    'password': password\n",
    "}"
   ]
  },
  {
   "cell_type": "code",
   "execution_count": 4,
   "id": "bba15771-b73f-4556-9f08-376a8e7cf09f",
   "metadata": {
    "tags": []
   },
   "outputs": [
    {
     "name": "stdout",
     "output_type": "stream",
     "text": [
      "<Response [200]>\n"
     ]
    }
   ],
   "source": [
    "#create an informative header for your application\n",
    "headers = {'User-Agent': 'DSI_GA/0.0.1'}\n",
    "\n",
    "res = requests.post(\n",
    "    'https://www.reddit.com/api/v1/access_token',\n",
    "    auth=auth,\n",
    "    data=data,\n",
    "    headers=headers)\n",
    "\n",
    "print(res)"
   ]
  },
  {
   "cell_type": "code",
   "execution_count": 5,
   "id": "a4e4c795-8232-43fb-98b3-c11ba13ace37",
   "metadata": {
    "tags": []
   },
   "outputs": [],
   "source": [
    "#retrieve access token\n",
    "token = res.json()['access_token']\n"
   ]
  },
  {
   "cell_type": "code",
   "execution_count": 6,
   "id": "babe3f93-4504-4aae-ad77-e384718135a0",
   "metadata": {},
   "outputs": [
    {
     "data": {
      "text/plain": [
       "True"
      ]
     },
     "execution_count": 6,
     "metadata": {},
     "output_type": "execute_result"
    }
   ],
   "source": [
    "headers['Authorization'] = f'bearer {token}'\n",
    "\n",
    "requests.get('https://oauth.reddit.com/api/v1/me', headers=headers).status_code == 200"
   ]
  },
  {
   "cell_type": "code",
   "execution_count": 7,
   "id": "3041f3c4-77fb-4204-8690-6fa691be7ff7",
   "metadata": {},
   "outputs": [],
   "source": [
    "def rake(subreddit):\n",
    "    base_url = 'https://oauth.reddit.com/r/'\n",
    "    subreddit = subreddit\n",
    "    json_child_attributes=[]\n",
    "    size_of_pull_requests = {'limit':100}\n",
    "    \n",
    "    for n in range(0,10):\n",
    "        res = requests.get(base_url+subreddit+'/new', headers=headers,params= size_of_pull_requests)\n",
    "        api_pull= res.json()\n",
    "        print(size_of_pull_requests)\n",
    "        print(api_pull['data']['after'])\n",
    "        \n",
    "        \n",
    "        for attribute_i in range(len(api_pull['data']['children'])):\n",
    "            try:\n",
    "                each_submission = {}\n",
    "                each_submission['subreddit']=api_pull['data']['children'][attribute_i]['data']['subreddit']\n",
    "                each_submission['selftext']=api_pull['data']['children'][attribute_i]['data']['selftext']\n",
    "                each_submission['selftext_html']=api_pull['data']['children'][attribute_i]['data']['selftext_html']\n",
    "                each_submission['author_fullname']=api_pull['data']['children'][attribute_i]['data']['author_fullname']\n",
    "                each_submission['title']=api_pull['data']['children'][attribute_i]['data']['title']\n",
    "                each_submission['ups']=api_pull['data']['children'][attribute_i]['data']['ups']\n",
    "                each_submission['total_awards_received']=api_pull['data']['children'][attribute_i]['data']['total_awards_received']\n",
    "                each_submission['category']=api_pull['data']['children'][attribute_i]['data']['category']\n",
    "                each_submission['score']=api_pull['data']['children'][attribute_i]['data']['score']\n",
    "                each_submission['is_created_from_ads_ui']=api_pull['data']['children'][attribute_i]['data']['is_created_from_ads_ui']\n",
    "                each_submission['is_self']=api_pull['data']['children'][attribute_i]['data']['is_self']\n",
    "                each_submission['created']=api_pull['data']['children'][attribute_i]['data']['created']\n",
    "                each_submission['author_flair_richtext']=api_pull['data']['children'][attribute_i]['data']['author_flair_richtext']\n",
    "                each_submission['whitelist_status']=api_pull['data']['children'][attribute_i]['data']['whitelist_status']\n",
    "                each_submission['allow_live_comments']=api_pull['data']['children'][attribute_i]['data']['allow_live_comments']\n",
    "                each_submission['likes']=api_pull['data']['children'][attribute_i]['data']['likes']\n",
    "                each_submission['suggested_sort']=api_pull['data']['children'][attribute_i]['data']['suggested_sort']\n",
    "                each_submission['banned_at_utc']=api_pull['data']['children'][attribute_i]['data']['banned_at_utc']\n",
    "                each_submission['view_count']=api_pull['data']['children'][attribute_i]['data']['view_count']\n",
    "                each_submission['archived']=api_pull['data']['children'][attribute_i]['data']['archived']\n",
    "                each_submission['pinned']=api_pull['data']['children'][attribute_i]['data']['pinned']\n",
    "                each_submission['over_18']=api_pull['data']['children'][attribute_i]['data']['over_18']\n",
    "                each_submission['locked']=api_pull['data']['children'][attribute_i]['data']['locked']\n",
    "                each_submission['num_reports']=api_pull['data']['children'][attribute_i]['data']['num_reports']\n",
    "                each_submission['subreddit_id']=api_pull['data']['children'][attribute_i]['data']['subreddit_id']\n",
    "                each_submission['num_comments']=api_pull['data']['children'][attribute_i]['data']['num_comments']\n",
    "                each_submission['created_utc']=api_pull['data']['children'][attribute_i]['data']['created_utc']\n",
    "                each_submission['num_crossposts']=api_pull['data']['children'][attribute_i]['data']['num_crossposts']\n",
    "                each_submission['media']=api_pull['data']['children'][attribute_i]['data']['media']\n",
    "                each_submission['is_video']=api_pull['data']['children'][attribute_i]['data']['is_video']\n",
    "                each_submission['name']=api_pull['data']['children'][attribute_i]['data']['name']\n",
    "\n",
    "                if each_submission['title'] not in json_child_attributes:\n",
    "                    json_child_attributes.append(each_submission)\n",
    "            except:\n",
    "                pass\n",
    "        \n",
    "        size_of_pull_requests['after']= json_child_attributes[-1]['name']\n",
    "        # size_of_pull_requests['after'] = json_child_attributes['data']['after']\n",
    "        # size_of_pull_requests['after'] = api_pull['data']['children'][-1]['data']['name']\n",
    "\n",
    "            \n",
    "    df= pd.DataFrame(json_child_attributes)\n",
    "    return df\n",
    "\n",
    "\n",
    "\n",
    "\n",
    "\n",
    "\n"
   ]
  },
  {
   "cell_type": "code",
   "execution_count": 8,
   "id": "ffdfdf58-1913-4350-9717-7e9b425b3c4c",
   "metadata": {
    "tags": []
   },
   "outputs": [
    {
     "name": "stdout",
     "output_type": "stream",
     "text": [
      "{'limit': 100}\n",
      "t3_16ymytz\n",
      "{'limit': 100, 'after': 't3_16ymytz'}\n",
      "t3_16tu6qr\n",
      "{'limit': 100, 'after': 't3_16tu6qr'}\n",
      "t3_16r3h68\n",
      "{'limit': 100, 'after': 't3_16r3h68'}\n",
      "t3_16nt2bd\n",
      "{'limit': 100, 'after': 't3_16nt2bd'}\n",
      "t3_16kcm70\n",
      "{'limit': 100, 'after': 't3_16kcm70'}\n",
      "t3_16h04ez\n",
      "{'limit': 100, 'after': 't3_16h04ez'}\n",
      "t3_16clv4t\n",
      "{'limit': 100, 'after': 't3_16clv4t'}\n",
      "t3_1697fbf\n",
      "{'limit': 100, 'after': 't3_1697fbf'}\n",
      "None\n",
      "{'limit': 100, 'after': 't3_166l4rb'}\n",
      "None\n"
     ]
    }
   ],
   "source": [
    "df_investing= rake('investing')"
   ]
  },
  {
   "cell_type": "code",
   "execution_count": 9,
   "id": "5e853617-5605-4701-864a-b6a6fe165e27",
   "metadata": {
    "tags": []
   },
   "outputs": [
    {
     "data": {
      "text/plain": [
       "(861, 31)"
      ]
     },
     "execution_count": 9,
     "metadata": {},
     "output_type": "execute_result"
    }
   ],
   "source": [
    "df_investing.shape"
   ]
  },
  {
   "cell_type": "code",
   "execution_count": 10,
   "id": "86c5e40b-6daf-4338-974b-52ba69b0a7e4",
   "metadata": {
    "tags": []
   },
   "outputs": [
    {
     "data": {
      "text/html": [
       "<div>\n",
       "<style scoped>\n",
       "    .dataframe tbody tr th:only-of-type {\n",
       "        vertical-align: middle;\n",
       "    }\n",
       "\n",
       "    .dataframe tbody tr th {\n",
       "        vertical-align: top;\n",
       "    }\n",
       "\n",
       "    .dataframe thead th {\n",
       "        text-align: right;\n",
       "    }\n",
       "</style>\n",
       "<table border=\"1\" class=\"dataframe\">\n",
       "  <thead>\n",
       "    <tr style=\"text-align: right;\">\n",
       "      <th></th>\n",
       "      <th>subreddit</th>\n",
       "      <th>selftext</th>\n",
       "      <th>selftext_html</th>\n",
       "      <th>author_fullname</th>\n",
       "      <th>title</th>\n",
       "      <th>ups</th>\n",
       "      <th>total_awards_received</th>\n",
       "      <th>category</th>\n",
       "      <th>score</th>\n",
       "      <th>is_created_from_ads_ui</th>\n",
       "      <th>...</th>\n",
       "      <th>over_18</th>\n",
       "      <th>locked</th>\n",
       "      <th>num_reports</th>\n",
       "      <th>subreddit_id</th>\n",
       "      <th>num_comments</th>\n",
       "      <th>created_utc</th>\n",
       "      <th>num_crossposts</th>\n",
       "      <th>media</th>\n",
       "      <th>is_video</th>\n",
       "      <th>name</th>\n",
       "    </tr>\n",
       "  </thead>\n",
       "  <tbody>\n",
       "    <tr>\n",
       "      <th>0</th>\n",
       "      <td>investing</td>\n",
       "      <td>from what I understand, Ozempic was developed ...</td>\n",
       "      <td>&amp;lt;!-- SC_OFF --&amp;gt;&amp;lt;div class=\"md\"&amp;gt;&amp;lt...</td>\n",
       "      <td>t2_daehbbsip</td>\n",
       "      <td>i'm not seeing the hype on Ozempic</td>\n",
       "      <td>0</td>\n",
       "      <td>0</td>\n",
       "      <td>None</td>\n",
       "      <td>0</td>\n",
       "      <td>False</td>\n",
       "      <td>...</td>\n",
       "      <td>False</td>\n",
       "      <td>False</td>\n",
       "      <td>None</td>\n",
       "      <td>t5_2qhhq</td>\n",
       "      <td>6</td>\n",
       "      <td>1.696626e+09</td>\n",
       "      <td>0</td>\n",
       "      <td>None</td>\n",
       "      <td>False</td>\n",
       "      <td>t3_171ng5x</td>\n",
       "    </tr>\n",
       "  </tbody>\n",
       "</table>\n",
       "<p>1 rows × 31 columns</p>\n",
       "</div>"
      ],
      "text/plain": [
       "   subreddit                                           selftext  \\\n",
       "0  investing  from what I understand, Ozempic was developed ...   \n",
       "\n",
       "                                       selftext_html author_fullname  \\\n",
       "0  &lt;!-- SC_OFF --&gt;&lt;div class=\"md\"&gt;&lt...    t2_daehbbsip   \n",
       "\n",
       "                                title  ups  total_awards_received category  \\\n",
       "0  i'm not seeing the hype on Ozempic    0                      0     None   \n",
       "\n",
       "   score  is_created_from_ads_ui  ...  over_18  locked num_reports  \\\n",
       "0      0                   False  ...    False   False        None   \n",
       "\n",
       "  subreddit_id  num_comments   created_utc num_crossposts media is_video  \\\n",
       "0     t5_2qhhq             6  1.696626e+09              0  None    False   \n",
       "\n",
       "         name  \n",
       "0  t3_171ng5x  \n",
       "\n",
       "[1 rows x 31 columns]"
      ]
     },
     "execution_count": 10,
     "metadata": {},
     "output_type": "execute_result"
    }
   ],
   "source": [
    "df_investing.head(1)"
   ]
  },
  {
   "cell_type": "code",
   "execution_count": 11,
   "id": "5aa6c892-3999-4701-bd82-15f776f07e71",
   "metadata": {},
   "outputs": [
    {
     "name": "stdout",
     "output_type": "stream",
     "text": [
      "{'limit': 100}\n",
      "t3_16vp8jk\n",
      "{'limit': 100, 'after': 't3_16vp8jk'}\n",
      "t3_16rfw1t\n",
      "{'limit': 100, 'after': 't3_16rfw1t'}\n",
      "t3_16lv6dy\n",
      "{'limit': 100, 'after': 't3_16lv6dy'}\n",
      "t3_16htq3p\n",
      "{'limit': 100, 'after': 't3_16htq3p'}\n",
      "t3_16cmz1l\n",
      "{'limit': 100, 'after': 't3_16cmz1l'}\n",
      "t3_165p3u5\n",
      "{'limit': 100, 'after': 't3_165p3u5'}\n",
      "t3_15yrjo4\n",
      "{'limit': 100, 'after': 't3_15yrjo4'}\n",
      "t3_15sth40\n",
      "{'limit': 100, 'after': 't3_15sth40'}\n",
      "None\n",
      "{'limit': 100, 'after': 't3_15qpt6r'}\n",
      "None\n"
     ]
    }
   ],
   "source": [
    "df_stocks= rake('stocks')"
   ]
  },
  {
   "cell_type": "code",
   "execution_count": 12,
   "id": "3f62b538-5d09-486e-b11e-1fee3b21ea43",
   "metadata": {
    "tags": []
   },
   "outputs": [
    {
     "data": {
      "text/plain": [
       "(837, 31)"
      ]
     },
     "execution_count": 12,
     "metadata": {},
     "output_type": "execute_result"
    }
   ],
   "source": [
    "df_stocks.shape"
   ]
  },
  {
   "cell_type": "code",
   "execution_count": 13,
   "id": "ee4228c2-8be8-4f4f-9550-3ae96a4309b5",
   "metadata": {
    "tags": []
   },
   "outputs": [
    {
     "data": {
      "text/html": [
       "<div>\n",
       "<style scoped>\n",
       "    .dataframe tbody tr th:only-of-type {\n",
       "        vertical-align: middle;\n",
       "    }\n",
       "\n",
       "    .dataframe tbody tr th {\n",
       "        vertical-align: top;\n",
       "    }\n",
       "\n",
       "    .dataframe thead th {\n",
       "        text-align: right;\n",
       "    }\n",
       "</style>\n",
       "<table border=\"1\" class=\"dataframe\">\n",
       "  <thead>\n",
       "    <tr style=\"text-align: right;\">\n",
       "      <th></th>\n",
       "      <th>subreddit</th>\n",
       "      <th>selftext</th>\n",
       "      <th>selftext_html</th>\n",
       "      <th>author_fullname</th>\n",
       "      <th>title</th>\n",
       "      <th>ups</th>\n",
       "      <th>total_awards_received</th>\n",
       "      <th>category</th>\n",
       "      <th>score</th>\n",
       "      <th>is_created_from_ads_ui</th>\n",
       "      <th>...</th>\n",
       "      <th>over_18</th>\n",
       "      <th>locked</th>\n",
       "      <th>num_reports</th>\n",
       "      <th>subreddit_id</th>\n",
       "      <th>num_comments</th>\n",
       "      <th>created_utc</th>\n",
       "      <th>num_crossposts</th>\n",
       "      <th>media</th>\n",
       "      <th>is_video</th>\n",
       "      <th>name</th>\n",
       "    </tr>\n",
       "  </thead>\n",
       "  <tbody>\n",
       "    <tr>\n",
       "      <th>0</th>\n",
       "      <td>stocks</td>\n",
       "      <td>Currently, the 1 Month Treasury is yielding 5....</td>\n",
       "      <td>&amp;lt;!-- SC_OFF --&amp;gt;&amp;lt;div class=\"md\"&amp;gt;&amp;lt...</td>\n",
       "      <td>t2_awv3pa0</td>\n",
       "      <td>Question Regarding Treasuries</td>\n",
       "      <td>1</td>\n",
       "      <td>0</td>\n",
       "      <td>None</td>\n",
       "      <td>1</td>\n",
       "      <td>False</td>\n",
       "      <td>...</td>\n",
       "      <td>False</td>\n",
       "      <td>False</td>\n",
       "      <td>None</td>\n",
       "      <td>t5_2qjfk</td>\n",
       "      <td>4</td>\n",
       "      <td>1.696624e+09</td>\n",
       "      <td>0</td>\n",
       "      <td>None</td>\n",
       "      <td>False</td>\n",
       "      <td>t3_171mvzy</td>\n",
       "    </tr>\n",
       "  </tbody>\n",
       "</table>\n",
       "<p>1 rows × 31 columns</p>\n",
       "</div>"
      ],
      "text/plain": [
       "  subreddit                                           selftext  \\\n",
       "0    stocks  Currently, the 1 Month Treasury is yielding 5....   \n",
       "\n",
       "                                       selftext_html author_fullname  \\\n",
       "0  &lt;!-- SC_OFF --&gt;&lt;div class=\"md\"&gt;&lt...      t2_awv3pa0   \n",
       "\n",
       "                           title  ups  total_awards_received category  score  \\\n",
       "0  Question Regarding Treasuries    1                      0     None      1   \n",
       "\n",
       "   is_created_from_ads_ui  ...  over_18  locked num_reports subreddit_id  \\\n",
       "0                   False  ...    False   False        None     t5_2qjfk   \n",
       "\n",
       "   num_comments   created_utc num_crossposts media is_video        name  \n",
       "0             4  1.696624e+09              0  None    False  t3_171mvzy  \n",
       "\n",
       "[1 rows x 31 columns]"
      ]
     },
     "execution_count": 13,
     "metadata": {},
     "output_type": "execute_result"
    }
   ],
   "source": [
    "df_stocks.head(1)"
   ]
  },
  {
   "cell_type": "code",
   "execution_count": 14,
   "id": "01e9400a-b45c-4db2-9f8d-cee99d4ff041",
   "metadata": {
    "tags": []
   },
   "outputs": [],
   "source": [
    "df_investing.to_csv('./data/investing_22.csv', index=True)"
   ]
  },
  {
   "cell_type": "code",
   "execution_count": 15,
   "id": "2dfa0c87-8836-4e91-b708-07ecc8c77654",
   "metadata": {
    "tags": []
   },
   "outputs": [],
   "source": [
    "df_stocks.to_csv('./data/stocks_22.csv', index=True)"
   ]
  },
  {
   "cell_type": "code",
   "execution_count": null,
   "id": "0a9ee575-71fe-4f8f-9b76-1334cbb9a2ab",
   "metadata": {},
   "outputs": [],
   "source": []
  }
 ],
 "metadata": {
  "kernelspec": {
   "display_name": "Python 3 (ipykernel)",
   "language": "python",
   "name": "python3"
  },
  "language_info": {
   "codemirror_mode": {
    "name": "ipython",
    "version": 3
   },
   "file_extension": ".py",
   "mimetype": "text/x-python",
   "name": "python",
   "nbconvert_exporter": "python",
   "pygments_lexer": "ipython3",
   "version": "3.8.16"
  }
 },
 "nbformat": 4,
 "nbformat_minor": 5
}
