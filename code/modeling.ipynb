{
 "cells": [
  {
   "cell_type": "markdown",
   "id": "9a48201d-b8c6-424d-ab9a-93cbb4b3749e",
   "metadata": {},
   "source": [
    "<font size=\"6\"> Table of Contents</font>\n",
    "<a id='destination_cell_10'></a> <br>\n",
    "[Logistic_Regression_1_selftext](#destination_cell_3) <br>\n",
    "[Logistic_Regression_2_title](#destination_cell_4)<br>\n",
    "[Regression Tree (CART)](#destination_cell_6) <br>\n",
    "[Random Forest](#destination_cell_17) <br>\n",
    "[Knn](#destination_cell_18) <br>\n",
    "[AdaBoost](#destination_cell_16) <br>\n",
    "[Stacking](#destination_cell_5) <br>"
   ]
  },
  {
   "cell_type": "code",
   "execution_count": 1,
   "id": "e2b6ca26-cc07-49f8-89b4-5160676aabe1",
   "metadata": {
    "tags": []
   },
   "outputs": [],
   "source": [
    "import pandas as pd\n",
    "import numpy as np\n",
    "import nltk\n",
    "import seaborn as sns\n",
    "import matplotlib.pyplot as plt\n",
    "import matplotlib.patches as mpatches\n",
    "import re\n",
    "\n",
    "from sklearn.feature_extraction.text import TfidfVectorizer, ENGLISH_STOP_WORDS\n",
    "from sklearn.model_selection import train_test_split, cross_val_predict, cross_val_score, GridSearchCV\n",
    "from sklearn.pipeline import Pipeline\n",
    "from sklearn.preprocessing import StandardScaler, LabelEncoder\n",
    "from sklearn.metrics import confusion_matrix\n",
    "from sklearn.decomposition import PCA\n",
    "from sklearn.ensemble import RandomForestClassifier, AdaBoostClassifier\n",
    "from sklearn.neighbors import KNeighborsClassifier\n",
    "from sklearn.linear_model import LogisticRegression\n",
    "from sklearn.tree import DecisionTreeClassifier\n",
    "from sklearn.utils import resample\n",
    "\n",
    "\n",
    "from nltk.stem import WordNetLemmatizer\n",
    "from nltk.tokenize import word_tokenize, sent_tokenize\n",
    "\n",
    "from collections import Counter"
   ]
  },
  {
   "cell_type": "code",
   "execution_count": 2,
   "id": "1dc45711-074e-43ea-a4c4-57f9cef0b747",
   "metadata": {},
   "outputs": [
    {
     "name": "stdout",
     "output_type": "stream",
     "text": [
      "/Users/nicholassanso/Desktop/GA/projects/project-3\n"
     ]
    }
   ],
   "source": [
    "%cd '/Users/nicholassanso/Desktop/GA/projects/project-3'"
   ]
  },
  {
   "cell_type": "code",
   "execution_count": 3,
   "id": "4bb21d10-9bda-4a5a-8dec-62cac8bc27f9",
   "metadata": {
    "tags": []
   },
   "outputs": [],
   "source": [
    "#load the CSV file\n",
    "df_combined = pd.read_csv('./post_grad_p3/df_combined.csv')"
   ]
  },
  {
   "cell_type": "markdown",
   "id": "e1309d5e-e045-4e56-baab-ae30c6875d01",
   "metadata": {},
   "source": [
    "\n",
    "<font size=\"8\">Logistic_Regression_1_selftext</font>\n",
    "<a id='destination_cell_3'></a>\n",
    "\n",
    "[Return to Table of Contents](#destination_cell_10)"
   ]
  },
  {
   "cell_type": "code",
   "execution_count": 4,
   "id": "e80acc75-e90e-48eb-87ff-2420838842a7",
   "metadata": {
    "tags": []
   },
   "outputs": [],
   "source": [
    "X = df_combined['selftext_cleaned_1_lemmatized']\n",
    "y = df_combined['subreddit']\n",
    "\n",
    "#train test split\n",
    "X_train, X_val, y_train, y_val = train_test_split(X, y, test_size=0.4, random_state=42)\n",
    "X_pred, X_test, y_pred, y_test = train_test_split(X_val, y_val, test_size=0.25, random_state=42)"
   ]
  },
  {
   "cell_type": "code",
   "execution_count": 5,
   "id": "b699aef1-cef3-4ee4-a1cf-f1afd3b4bd35",
   "metadata": {
    "tags": []
   },
   "outputs": [
    {
     "name": "stdout",
     "output_type": "stream",
     "text": [
      "{'logreg__C': 10, 'logreg__penalty': 'l2', 'tvec__ngram_range': (1, 2)}\n"
     ]
    }
   ],
   "source": [
    "tvec = TfidfVectorizer(stop_words='english')\n",
    "logreg = LogisticRegression(solver = 'liblinear', random_state= 42, max_iter=1000)\n",
    "\n",
    "#create a pipeline\n",
    "pipe_selftext = Pipeline([\n",
    "    ('tvec', tvec),\n",
    "    ('logreg', logreg)\n",
    "])\n",
    "\n",
    "# define the parameter grid\n",
    "param_grid = {\n",
    "    'tvec__ngram_range': [(1, 1), (1, 2)],\n",
    "    'logreg__C': [0.1, 1, 10],\n",
    "    'logreg__penalty': ['l1', 'l2']\n",
    "}\n",
    "\n",
    "#create a GridSearchCV instance\n",
    "grid_search_logreg_1 = GridSearchCV(pipe_selftext, param_grid)\n",
    "\n",
    "#fit the GridSearchCV instance on the data \n",
    "grid_search_logreg_1.fit(X_train, y_train)\n",
    "\n",
    "print(grid_search_logreg_1.best_params_)"
   ]
  },
  {
   "cell_type": "code",
   "execution_count": 6,
   "id": "7f9fe6b1-1622-4728-bbfb-99a0a48317d7",
   "metadata": {
    "tags": []
   },
   "outputs": [
    {
     "name": "stdout",
     "output_type": "stream",
     "text": [
      "0.9955555555555555\n",
      "0.7722222222222223\n"
     ]
    }
   ],
   "source": [
    "#fit on the training data\n",
    "grid_search_logreg_1.fit(X_train, y_train)\n",
    "\n",
    "#the accuracy of the training data\n",
    "train_acc = grid_search_logreg_1.score(X_train, y_train)\n",
    "print(train_acc)\n",
    "\n",
    "#the accuracy of the validation data\n",
    "val_acc = grid_search_logreg_1.score(X_val, y_val)\n",
    "print(val_acc)"
   ]
  },
  {
   "cell_type": "code",
   "execution_count": 7,
   "id": "5c24198a-d766-44e8-92e4-547611953a47",
   "metadata": {
    "tags": []
   },
   "outputs": [
    {
     "name": "stdout",
     "output_type": "stream",
     "text": [
      "[0.74814815 0.78148148 0.74814815 0.75925926 0.76851852]\n",
      "0.7611111111111112\n",
      "0.012722640027642711\n"
     ]
    }
   ],
   "source": [
    "scores = cross_val_score(grid_search_logreg_1, X_train, y_train, cv=5)\n",
    "print(scores)\n",
    "print(scores.mean())\n",
    "print(scores.std())"
   ]
  },
  {
   "cell_type": "code",
   "execution_count": 8,
   "id": "687f0485-8684-4872-87d0-b446237e4269",
   "metadata": {
    "tags": []
   },
   "outputs": [
    {
     "data": {
      "text/plain": [
       "(1350,)"
      ]
     },
     "execution_count": 8,
     "metadata": {},
     "output_type": "execute_result"
    }
   ],
   "source": [
    "predictions_selftext = grid_search_logreg_1.predict(X_pred)\n",
    "predictions_selftext.shape"
   ]
  },
  {
   "cell_type": "code",
   "execution_count": 9,
   "id": "8fdfe56e-ae01-48b9-b551-0d05180bd471",
   "metadata": {},
   "outputs": [],
   "source": [
    "X_test = X_test.values"
   ]
  },
  {
   "cell_type": "code",
   "execution_count": 10,
   "id": "e6f7e0e1-da51-4635-b01c-3150f4304a4e",
   "metadata": {
    "tags": []
   },
   "outputs": [
    {
     "data": {
      "text/plain": [
       "(450,)"
      ]
     },
     "execution_count": 10,
     "metadata": {},
     "output_type": "execute_result"
    }
   ],
   "source": [
    "predictions_selftext_X_test = grid_search_logreg_1.predict(X_test)\n",
    "predictions_selftext_X_test.shape"
   ]
  },
  {
   "cell_type": "markdown",
   "id": "05d39475-2893-41e1-b8e4-188b040210a1",
   "metadata": {},
   "source": [
    "<font size=\"8\">Logistic_Regression_2_title</font>\n",
    "<a id='destination_cell_4'></a>\n",
    "\n",
    "[Return to Table of Contents](#destination_cell_10)"
   ]
  },
  {
   "cell_type": "code",
   "execution_count": 11,
   "id": "7dc3fe81-f8f6-40ee-8612-39ebfbc72df0",
   "metadata": {
    "tags": []
   },
   "outputs": [],
   "source": [
    "X = df_combined['title_cleaned_1_lemmatized']\n",
    "y = df_combined['subreddit']\n",
    "\n",
    "#train test split\n",
    "X_train, X_val, y_train, y_val = train_test_split(X, y, test_size=0.4, random_state=42)\n",
    "X_pred, X_test, y_pred, y_test = train_test_split(X_val, y_val, test_size=0.25, random_state=42)"
   ]
  },
  {
   "cell_type": "code",
   "execution_count": 12,
   "id": "b486e0f5-48a2-4ed5-a767-2358b3038eea",
   "metadata": {
    "tags": []
   },
   "outputs": [
    {
     "name": "stdout",
     "output_type": "stream",
     "text": [
      "{'logreg_2__C': 1, 'logreg_2__penalty': 'l2', 'tvec_2__ngram_range': (1, 1)}\n"
     ]
    }
   ],
   "source": [
    "#instantiate the TfidVectorizer and LogisticRegression\n",
    "tvec_2 = TfidfVectorizer(stop_words='english')\n",
    "logreg_2 = LogisticRegression(solver = 'liblinear', random_state= 42, max_iter=1000)\n",
    "\n",
    "#pipeline\n",
    "pipe_title = Pipeline([\n",
    "    ('tvec_2', tvec_2),\n",
    "    ('logreg_2', logreg_2)\n",
    "])\n",
    "\n",
    "#define the parameter grid\n",
    "param_grid = {\n",
    "    'tvec_2__ngram_range': [(1, 1), (1, 2)],\n",
    "    'logreg_2__C': [0.1, 1],\n",
    "    'logreg_2__penalty': ['l1', 'l2']\n",
    "}\n",
    "\n",
    "#instantiate a GridSearchCV\n",
    "grid_search_logreg_2 = GridSearchCV(pipe_title, param_grid)\n",
    "\n",
    "#fit the GridSearch\"\n",
    "grid_search_logreg_2.fit(X_train, y_train)\n",
    "\n",
    "print(grid_search_logreg_2.best_params_);"
   ]
  },
  {
   "cell_type": "code",
   "execution_count": 13,
   "id": "9a9b2968-78cf-42cb-a826-698d9537eeac",
   "metadata": {
    "tags": []
   },
   "outputs": [
    {
     "name": "stdout",
     "output_type": "stream",
     "text": [
      "0.882962962962963\n",
      "0.7433333333333333\n"
     ]
    }
   ],
   "source": [
    "print(grid_search_logreg_2.score(X_train, y_train))\n",
    "print(grid_search_logreg_2.score(X_val, y_val))"
   ]
  },
  {
   "cell_type": "code",
   "execution_count": 14,
   "id": "75aab2c9-2297-4ecb-9f15-c89f79b493d1",
   "metadata": {
    "tags": []
   },
   "outputs": [
    {
     "name": "stdout",
     "output_type": "stream",
     "text": [
      "[0.72222222 0.73518519 0.70740741 0.75       0.73333333]\n",
      "0.7296296296296296\n",
      "0.014200214453837649\n"
     ]
    }
   ],
   "source": [
    "scores = cross_val_score(grid_search_logreg_2, X_train, y_train, cv=5)\n",
    "print(scores)\n",
    "print(scores.mean())\n",
    "print(scores.std())"
   ]
  },
  {
   "cell_type": "code",
   "execution_count": 15,
   "id": "5a208fea-c554-4639-b822-482d66e30105",
   "metadata": {},
   "outputs": [
    {
     "name": "stdout",
     "output_type": "stream",
     "text": [
      "0.882962962962963\n",
      "0.7433333333333333\n"
     ]
    }
   ],
   "source": [
    "#the accuracy on the training data\n",
    "train_acc = grid_search_logreg_2.score(X_train, y_train)\n",
    "\n",
    "#the accuracy on the validation data\n",
    "val_acc = grid_search_logreg_2.score(X_val, y_val)\n",
    "\n",
    "print(train_acc)\n",
    "print(val_acc)"
   ]
  },
  {
   "cell_type": "code",
   "execution_count": 16,
   "id": "0a912470-dd1b-44e5-8bd4-8dc2a1928186",
   "metadata": {
    "tags": []
   },
   "outputs": [
    {
     "data": {
      "text/plain": [
       "(1350,)"
      ]
     },
     "execution_count": 16,
     "metadata": {},
     "output_type": "execute_result"
    }
   ],
   "source": [
    "predictions_title = grid_search_logreg_2.predict(X_pred)\n",
    "predictions_title.shape"
   ]
  },
  {
   "cell_type": "code",
   "execution_count": 17,
   "id": "477e217f-76e7-4d62-b52b-607649bae77e",
   "metadata": {},
   "outputs": [],
   "source": [
    "X_test = X_test.values"
   ]
  },
  {
   "cell_type": "code",
   "execution_count": 18,
   "id": "cea5b3fc-dc99-4fdb-9cfe-c4e6d418cecb",
   "metadata": {
    "tags": []
   },
   "outputs": [
    {
     "data": {
      "text/plain": [
       "(450,)"
      ]
     },
     "execution_count": 18,
     "metadata": {},
     "output_type": "execute_result"
    }
   ],
   "source": [
    "predictions_title_X_test = grid_search_logreg_2.predict(X_test)\n",
    "predictions_title_X_test.shape"
   ]
  },
  {
   "cell_type": "markdown",
   "id": "d35819a6-6358-459a-ac7c-4a48770b874d",
   "metadata": {},
   "source": [
    "<font size=\"8\">Train, Validation Split and Standard Scaler </font>\n",
    "<a id='destination_cell_6'></a>\n",
    "\n",
    "[Return to Table of Contents](#destination_cell_10)"
   ]
  },
  {
   "cell_type": "code",
   "execution_count": 19,
   "id": "c92df32e-4be6-4181-b18e-6b8725300799",
   "metadata": {
    "tags": []
   },
   "outputs": [],
   "source": [
    "X=df_combined[['ups','num_comments','total_awards_received']]\n",
    "y=df_combined['subreddit']\n",
    "\n",
    "#train test split\n",
    "X_train, X_val, y_train, y_val = train_test_split(X, y, test_size=0.4, random_state=42)\n",
    "X_pred, X_test, y_pred, y_test = train_test_split(X_val, y_val, test_size=0.25, random_state=42)"
   ]
  },
  {
   "cell_type": "code",
   "execution_count": 20,
   "id": "69cbeb2c-a52a-4eae-995d-756b60e5b5a5",
   "metadata": {
    "tags": []
   },
   "outputs": [],
   "source": [
    "sc = StandardScaler()\n",
    "\n",
    "#learn the mean, stdev of each feature in the fit part, then applies the transformation\n",
    "X_train_sc = sc.fit_transform(X_train)"
   ]
  },
  {
   "cell_type": "code",
   "execution_count": 21,
   "id": "8c46735b-ccd1-4672-984f-46459929a53c",
   "metadata": {
    "tags": []
   },
   "outputs": [],
   "source": [
    "#we don't fit on test set, we only transform it with mean, stdev learned from training set\n",
    "X_pred_sc = sc.transform(X_pred)"
   ]
  },
  {
   "cell_type": "markdown",
   "id": "41beae9d-bbed-4cfe-857a-eb3b6ef0f46f",
   "metadata": {
    "tags": []
   },
   "source": [
    "<font size=\"8\">Regression Tree (CART) </font>\n",
    "<a id='destination_cell_6'></a>\n",
    "\n",
    "[Return to Table of Contents](#destination_cell_10)"
   ]
  },
  {
   "cell_type": "code",
   "execution_count": 22,
   "id": "219d7c85-5334-49f7-bdd9-63be5df07830",
   "metadata": {
    "tags": []
   },
   "outputs": [
    {
     "name": "stdout",
     "output_type": "stream",
     "text": [
      "{'max_depth': 5, 'min_samples_leaf': 5}\n"
     ]
    }
   ],
   "source": [
    "#define the parameter grid\n",
    "param_grid = {\n",
    "    'max_depth': [5, 10, 15, 20],\n",
    "    'min_samples_leaf': [5, 8, 10],\n",
    "}\n",
    "\n",
    "#instantiate cart estimator \n",
    "cart = DecisionTreeClassifier(random_state=42)\n",
    "\n",
    "#instantiate GridSearchCV \n",
    "grid_search_cart = GridSearchCV(cart, param_grid)\n",
    "\n",
    "#fit the GridSearchCV to the data\n",
    "grid_search_cart.fit(X_train_sc, y_train)\n",
    "\n",
    "print(grid_search_cart.best_params_);"
   ]
  },
  {
   "cell_type": "code",
   "execution_count": 23,
   "id": "7476c2d2-ead8-4a97-9d9d-ed5c53358ed1",
   "metadata": {
    "tags": []
   },
   "outputs": [
    {
     "name": "stdout",
     "output_type": "stream",
     "text": [
      "0.6811111111111111\n",
      "0.642962962962963\n"
     ]
    }
   ],
   "source": [
    "#compute the accuracy on the training data\n",
    "train_cart_accuracy = grid_search_cart.score(X_train_sc, y_train)\n",
    "\n",
    "#compute the accuracy on the validation data\n",
    "validation_cart_accuracy = grid_search_cart.score(X_pred_sc, y_pred)\n",
    "\n",
    "print(train_cart_accuracy)\n",
    "print(validation_cart_accuracy)"
   ]
  },
  {
   "cell_type": "code",
   "execution_count": 24,
   "id": "6a18305f-1d69-4c72-abb5-a90031bda488",
   "metadata": {
    "tags": []
   },
   "outputs": [
    {
     "name": "stdout",
     "output_type": "stream",
     "text": [
      "[0.65       0.67592593 0.66666667 0.66481481 0.65555556]\n",
      "0.6625925925925926\n",
      "0.009026709338484394\n"
     ]
    }
   ],
   "source": [
    "scores = cross_val_score(grid_search_cart, X_train_sc, y_train, cv=5)\n",
    "print(scores)\n",
    "print(scores.mean())\n",
    "print(scores.std())"
   ]
  },
  {
   "cell_type": "code",
   "execution_count": 25,
   "id": "8889c950-2937-4709-a053-43b563a11b3f",
   "metadata": {
    "tags": []
   },
   "outputs": [
    {
     "data": {
      "text/plain": [
       "(1350,)"
      ]
     },
     "execution_count": 25,
     "metadata": {},
     "output_type": "execute_result"
    }
   ],
   "source": [
    "predictions_cart = grid_search_cart.predict(X_pred_sc)\n",
    "predictions_cart.shape"
   ]
  },
  {
   "cell_type": "code",
   "execution_count": 26,
   "id": "f1fa1666-e4e6-4506-a32e-697f5a0da364",
   "metadata": {},
   "outputs": [],
   "source": [
    "X_test = X_test.values"
   ]
  },
  {
   "cell_type": "code",
   "execution_count": 27,
   "id": "e3aa11af-e322-4955-90f5-6ad3474a614f",
   "metadata": {
    "tags": []
   },
   "outputs": [
    {
     "data": {
      "text/plain": [
       "(450,)"
      ]
     },
     "execution_count": 27,
     "metadata": {},
     "output_type": "execute_result"
    }
   ],
   "source": [
    "predictions_cart_X_test = grid_search_cart.predict(X_test)\n",
    "predictions_cart_X_test.shape"
   ]
  },
  {
   "cell_type": "markdown",
   "id": "fc921d54-93f5-4ca4-826d-9ad2f9d1833e",
   "metadata": {
    "tags": []
   },
   "source": [
    "<font size=\"8\">Random Forest </font>\n",
    "<a id='destination_cell_17'></a>\n",
    "\n",
    "[Return to Table of Contents](#destination_cell_10)"
   ]
  },
  {
   "cell_type": "code",
   "execution_count": 28,
   "id": "08dd02c3-1119-4f23-9c40-c9ee6e953ab4",
   "metadata": {
    "tags": []
   },
   "outputs": [
    {
     "data": {
      "text/html": [
       "<style>#sk-container-id-1 {color: black;background-color: white;}#sk-container-id-1 pre{padding: 0;}#sk-container-id-1 div.sk-toggleable {background-color: white;}#sk-container-id-1 label.sk-toggleable__label {cursor: pointer;display: block;width: 100%;margin-bottom: 0;padding: 0.3em;box-sizing: border-box;text-align: center;}#sk-container-id-1 label.sk-toggleable__label-arrow:before {content: \"▸\";float: left;margin-right: 0.25em;color: #696969;}#sk-container-id-1 label.sk-toggleable__label-arrow:hover:before {color: black;}#sk-container-id-1 div.sk-estimator:hover label.sk-toggleable__label-arrow:before {color: black;}#sk-container-id-1 div.sk-toggleable__content {max-height: 0;max-width: 0;overflow: hidden;text-align: left;background-color: #f0f8ff;}#sk-container-id-1 div.sk-toggleable__content pre {margin: 0.2em;color: black;border-radius: 0.25em;background-color: #f0f8ff;}#sk-container-id-1 input.sk-toggleable__control:checked~div.sk-toggleable__content {max-height: 200px;max-width: 100%;overflow: auto;}#sk-container-id-1 input.sk-toggleable__control:checked~label.sk-toggleable__label-arrow:before {content: \"▾\";}#sk-container-id-1 div.sk-estimator input.sk-toggleable__control:checked~label.sk-toggleable__label {background-color: #d4ebff;}#sk-container-id-1 div.sk-label input.sk-toggleable__control:checked~label.sk-toggleable__label {background-color: #d4ebff;}#sk-container-id-1 input.sk-hidden--visually {border: 0;clip: rect(1px 1px 1px 1px);clip: rect(1px, 1px, 1px, 1px);height: 1px;margin: -1px;overflow: hidden;padding: 0;position: absolute;width: 1px;}#sk-container-id-1 div.sk-estimator {font-family: monospace;background-color: #f0f8ff;border: 1px dotted black;border-radius: 0.25em;box-sizing: border-box;margin-bottom: 0.5em;}#sk-container-id-1 div.sk-estimator:hover {background-color: #d4ebff;}#sk-container-id-1 div.sk-parallel-item::after {content: \"\";width: 100%;border-bottom: 1px solid gray;flex-grow: 1;}#sk-container-id-1 div.sk-label:hover label.sk-toggleable__label {background-color: #d4ebff;}#sk-container-id-1 div.sk-serial::before {content: \"\";position: absolute;border-left: 1px solid gray;box-sizing: border-box;top: 0;bottom: 0;left: 50%;z-index: 0;}#sk-container-id-1 div.sk-serial {display: flex;flex-direction: column;align-items: center;background-color: white;padding-right: 0.2em;padding-left: 0.2em;position: relative;}#sk-container-id-1 div.sk-item {position: relative;z-index: 1;}#sk-container-id-1 div.sk-parallel {display: flex;align-items: stretch;justify-content: center;background-color: white;position: relative;}#sk-container-id-1 div.sk-item::before, #sk-container-id-1 div.sk-parallel-item::before {content: \"\";position: absolute;border-left: 1px solid gray;box-sizing: border-box;top: 0;bottom: 0;left: 50%;z-index: -1;}#sk-container-id-1 div.sk-parallel-item {display: flex;flex-direction: column;z-index: 1;position: relative;background-color: white;}#sk-container-id-1 div.sk-parallel-item:first-child::after {align-self: flex-end;width: 50%;}#sk-container-id-1 div.sk-parallel-item:last-child::after {align-self: flex-start;width: 50%;}#sk-container-id-1 div.sk-parallel-item:only-child::after {width: 0;}#sk-container-id-1 div.sk-dashed-wrapped {border: 1px dashed gray;margin: 0 0.4em 0.5em 0.4em;box-sizing: border-box;padding-bottom: 0.4em;background-color: white;}#sk-container-id-1 div.sk-label label {font-family: monospace;font-weight: bold;display: inline-block;line-height: 1.2em;}#sk-container-id-1 div.sk-label-container {text-align: center;}#sk-container-id-1 div.sk-container {/* jupyter's `normalize.less` sets `[hidden] { display: none; }` but bootstrap.min.css set `[hidden] { display: none !important; }` so we also need the `!important` here to be able to override the default hidden behavior on the sphinx rendered scikit-learn.org. See: https://github.com/scikit-learn/scikit-learn/issues/21755 */display: inline-block !important;position: relative;}#sk-container-id-1 div.sk-text-repr-fallback {display: none;}</style><div id=\"sk-container-id-1\" class=\"sk-top-container\"><div class=\"sk-text-repr-fallback\"><pre>GridSearchCV(estimator=RandomForestClassifier(random_state=42),\n",
       "             param_grid={&#x27;ccp_alpha&#x27;: [0.0, 0.1, 0.2, 0.3],\n",
       "                         &#x27;max_depth&#x27;: [5, 10, 15, 20],\n",
       "                         &#x27;min_samples_leaf&#x27;: [1, 2, 5, 10]})</pre><b>In a Jupyter environment, please rerun this cell to show the HTML representation or trust the notebook. <br />On GitHub, the HTML representation is unable to render, please try loading this page with nbviewer.org.</b></div><div class=\"sk-container\" hidden><div class=\"sk-item sk-dashed-wrapped\"><div class=\"sk-label-container\"><div class=\"sk-label sk-toggleable\"><input class=\"sk-toggleable__control sk-hidden--visually\" id=\"sk-estimator-id-1\" type=\"checkbox\" ><label for=\"sk-estimator-id-1\" class=\"sk-toggleable__label sk-toggleable__label-arrow\">GridSearchCV</label><div class=\"sk-toggleable__content\"><pre>GridSearchCV(estimator=RandomForestClassifier(random_state=42),\n",
       "             param_grid={&#x27;ccp_alpha&#x27;: [0.0, 0.1, 0.2, 0.3],\n",
       "                         &#x27;max_depth&#x27;: [5, 10, 15, 20],\n",
       "                         &#x27;min_samples_leaf&#x27;: [1, 2, 5, 10]})</pre></div></div></div><div class=\"sk-parallel\"><div class=\"sk-parallel-item\"><div class=\"sk-item\"><div class=\"sk-label-container\"><div class=\"sk-label sk-toggleable\"><input class=\"sk-toggleable__control sk-hidden--visually\" id=\"sk-estimator-id-2\" type=\"checkbox\" ><label for=\"sk-estimator-id-2\" class=\"sk-toggleable__label sk-toggleable__label-arrow\">estimator: RandomForestClassifier</label><div class=\"sk-toggleable__content\"><pre>RandomForestClassifier(random_state=42)</pre></div></div></div><div class=\"sk-serial\"><div class=\"sk-item\"><div class=\"sk-estimator sk-toggleable\"><input class=\"sk-toggleable__control sk-hidden--visually\" id=\"sk-estimator-id-3\" type=\"checkbox\" ><label for=\"sk-estimator-id-3\" class=\"sk-toggleable__label sk-toggleable__label-arrow\">RandomForestClassifier</label><div class=\"sk-toggleable__content\"><pre>RandomForestClassifier(random_state=42)</pre></div></div></div></div></div></div></div></div></div></div>"
      ],
      "text/plain": [
       "GridSearchCV(estimator=RandomForestClassifier(random_state=42),\n",
       "             param_grid={'ccp_alpha': [0.0, 0.1, 0.2, 0.3],\n",
       "                         'max_depth': [5, 10, 15, 20],\n",
       "                         'min_samples_leaf': [1, 2, 5, 10]})"
      ]
     },
     "execution_count": 28,
     "metadata": {},
     "output_type": "execute_result"
    }
   ],
   "source": [
    "#define the parameter grid\n",
    "param_grid = {\n",
    "    'max_depth': [5, 10, 15, 20],\n",
    "    'min_samples_leaf': [1, 2, 5, 10],\n",
    "    'ccp_alpha': [0.0, 0.1, 0.2, 0.3]\n",
    "}\n",
    "\n",
    "#create a RandomForestClassifier instance\n",
    "rf = RandomForestClassifier(random_state=42)\n",
    "\n",
    "#instantiate a GridSearchCV\n",
    "grid_search_rf = GridSearchCV(rf, param_grid)\n",
    "\n",
    "#fit the GridSearchCV \n",
    "grid_search_rf.fit(X_train_sc, y_train)"
   ]
  },
  {
   "cell_type": "code",
   "execution_count": 29,
   "id": "10de67a2-9475-471a-b88a-b80441efbdc5",
   "metadata": {
    "tags": []
   },
   "outputs": [
    {
     "name": "stdout",
     "output_type": "stream",
     "text": [
      "0.727037037037037\n",
      "0.6451851851851852\n"
     ]
    }
   ],
   "source": [
    "#compute the accuracy on the training data\n",
    "train_rf_accuracy = grid_search_rf.score(X_train_sc, y_train)\n",
    "\n",
    "#compute the accuracy on the validation data\n",
    "validation_rf_accuracy = grid_search_rf.score(X_pred_sc, y_pred)\n",
    "\n",
    "print(train_rf_accuracy)\n",
    "print(validation_rf_accuracy)"
   ]
  },
  {
   "cell_type": "code",
   "execution_count": 30,
   "id": "f5d1383e-9de4-4543-8959-ae764cf18e69",
   "metadata": {
    "tags": []
   },
   "outputs": [
    {
     "name": "stdout",
     "output_type": "stream",
     "text": [
      "[0.65       0.6537037  0.67592593 0.67592593 0.66111111]\n",
      "0.6633333333333333\n",
      "0.01088662107903635\n"
     ]
    }
   ],
   "source": [
    "cross_val_scores = cross_val_score(grid_search_rf, X_train_sc, y_train, cv=5)\n",
    "print(cross_val_scores)\n",
    "print(cross_val_scores.mean())\n",
    "print(cross_val_scores.std())"
   ]
  },
  {
   "cell_type": "code",
   "execution_count": 31,
   "id": "5079bb8e-b593-468c-af11-b554689f5996",
   "metadata": {
    "tags": []
   },
   "outputs": [
    {
     "data": {
      "text/plain": [
       "(1350,)"
      ]
     },
     "execution_count": 31,
     "metadata": {},
     "output_type": "execute_result"
    }
   ],
   "source": [
    "predictions_rf = grid_search_rf.predict(X_pred_sc)\n",
    "predictions_rf.shape"
   ]
  },
  {
   "cell_type": "code",
   "execution_count": 32,
   "id": "1d6f1f28-e624-45ce-94dd-d7750bfd3fb7",
   "metadata": {
    "tags": []
   },
   "outputs": [
    {
     "data": {
      "text/plain": [
       "(450,)"
      ]
     },
     "execution_count": 32,
     "metadata": {},
     "output_type": "execute_result"
    }
   ],
   "source": [
    "predictions_rf_X_test = grid_search_rf.predict(X_test)\n",
    "predictions_rf_X_test.shape"
   ]
  },
  {
   "cell_type": "markdown",
   "id": "41a4e87d-ca7b-4794-8f93-190e369db74c",
   "metadata": {
    "tags": []
   },
   "source": [
    "<font size=\"8\">k_nearest_neighbors </font>\n",
    "<a id='destination_cell_18'></a>\n",
    "\n",
    "[Return to Table of Contents](#destination_cell_10)"
   ]
  },
  {
   "cell_type": "code",
   "execution_count": 33,
   "id": "b6126d0e-7036-4b16-99fa-c8922ce7c07b",
   "metadata": {
    "tags": []
   },
   "outputs": [
    {
     "data": {
      "text/html": [
       "<style>#sk-container-id-2 {color: black;background-color: white;}#sk-container-id-2 pre{padding: 0;}#sk-container-id-2 div.sk-toggleable {background-color: white;}#sk-container-id-2 label.sk-toggleable__label {cursor: pointer;display: block;width: 100%;margin-bottom: 0;padding: 0.3em;box-sizing: border-box;text-align: center;}#sk-container-id-2 label.sk-toggleable__label-arrow:before {content: \"▸\";float: left;margin-right: 0.25em;color: #696969;}#sk-container-id-2 label.sk-toggleable__label-arrow:hover:before {color: black;}#sk-container-id-2 div.sk-estimator:hover label.sk-toggleable__label-arrow:before {color: black;}#sk-container-id-2 div.sk-toggleable__content {max-height: 0;max-width: 0;overflow: hidden;text-align: left;background-color: #f0f8ff;}#sk-container-id-2 div.sk-toggleable__content pre {margin: 0.2em;color: black;border-radius: 0.25em;background-color: #f0f8ff;}#sk-container-id-2 input.sk-toggleable__control:checked~div.sk-toggleable__content {max-height: 200px;max-width: 100%;overflow: auto;}#sk-container-id-2 input.sk-toggleable__control:checked~label.sk-toggleable__label-arrow:before {content: \"▾\";}#sk-container-id-2 div.sk-estimator input.sk-toggleable__control:checked~label.sk-toggleable__label {background-color: #d4ebff;}#sk-container-id-2 div.sk-label input.sk-toggleable__control:checked~label.sk-toggleable__label {background-color: #d4ebff;}#sk-container-id-2 input.sk-hidden--visually {border: 0;clip: rect(1px 1px 1px 1px);clip: rect(1px, 1px, 1px, 1px);height: 1px;margin: -1px;overflow: hidden;padding: 0;position: absolute;width: 1px;}#sk-container-id-2 div.sk-estimator {font-family: monospace;background-color: #f0f8ff;border: 1px dotted black;border-radius: 0.25em;box-sizing: border-box;margin-bottom: 0.5em;}#sk-container-id-2 div.sk-estimator:hover {background-color: #d4ebff;}#sk-container-id-2 div.sk-parallel-item::after {content: \"\";width: 100%;border-bottom: 1px solid gray;flex-grow: 1;}#sk-container-id-2 div.sk-label:hover label.sk-toggleable__label {background-color: #d4ebff;}#sk-container-id-2 div.sk-serial::before {content: \"\";position: absolute;border-left: 1px solid gray;box-sizing: border-box;top: 0;bottom: 0;left: 50%;z-index: 0;}#sk-container-id-2 div.sk-serial {display: flex;flex-direction: column;align-items: center;background-color: white;padding-right: 0.2em;padding-left: 0.2em;position: relative;}#sk-container-id-2 div.sk-item {position: relative;z-index: 1;}#sk-container-id-2 div.sk-parallel {display: flex;align-items: stretch;justify-content: center;background-color: white;position: relative;}#sk-container-id-2 div.sk-item::before, #sk-container-id-2 div.sk-parallel-item::before {content: \"\";position: absolute;border-left: 1px solid gray;box-sizing: border-box;top: 0;bottom: 0;left: 50%;z-index: -1;}#sk-container-id-2 div.sk-parallel-item {display: flex;flex-direction: column;z-index: 1;position: relative;background-color: white;}#sk-container-id-2 div.sk-parallel-item:first-child::after {align-self: flex-end;width: 50%;}#sk-container-id-2 div.sk-parallel-item:last-child::after {align-self: flex-start;width: 50%;}#sk-container-id-2 div.sk-parallel-item:only-child::after {width: 0;}#sk-container-id-2 div.sk-dashed-wrapped {border: 1px dashed gray;margin: 0 0.4em 0.5em 0.4em;box-sizing: border-box;padding-bottom: 0.4em;background-color: white;}#sk-container-id-2 div.sk-label label {font-family: monospace;font-weight: bold;display: inline-block;line-height: 1.2em;}#sk-container-id-2 div.sk-label-container {text-align: center;}#sk-container-id-2 div.sk-container {/* jupyter's `normalize.less` sets `[hidden] { display: none; }` but bootstrap.min.css set `[hidden] { display: none !important; }` so we also need the `!important` here to be able to override the default hidden behavior on the sphinx rendered scikit-learn.org. See: https://github.com/scikit-learn/scikit-learn/issues/21755 */display: inline-block !important;position: relative;}#sk-container-id-2 div.sk-text-repr-fallback {display: none;}</style><div id=\"sk-container-id-2\" class=\"sk-top-container\"><div class=\"sk-text-repr-fallback\"><pre>GridSearchCV(estimator=KNeighborsClassifier(),\n",
       "             param_grid={&#x27;n_neighbors&#x27;: range(10, 20)})</pre><b>In a Jupyter environment, please rerun this cell to show the HTML representation or trust the notebook. <br />On GitHub, the HTML representation is unable to render, please try loading this page with nbviewer.org.</b></div><div class=\"sk-container\" hidden><div class=\"sk-item sk-dashed-wrapped\"><div class=\"sk-label-container\"><div class=\"sk-label sk-toggleable\"><input class=\"sk-toggleable__control sk-hidden--visually\" id=\"sk-estimator-id-4\" type=\"checkbox\" ><label for=\"sk-estimator-id-4\" class=\"sk-toggleable__label sk-toggleable__label-arrow\">GridSearchCV</label><div class=\"sk-toggleable__content\"><pre>GridSearchCV(estimator=KNeighborsClassifier(),\n",
       "             param_grid={&#x27;n_neighbors&#x27;: range(10, 20)})</pre></div></div></div><div class=\"sk-parallel\"><div class=\"sk-parallel-item\"><div class=\"sk-item\"><div class=\"sk-label-container\"><div class=\"sk-label sk-toggleable\"><input class=\"sk-toggleable__control sk-hidden--visually\" id=\"sk-estimator-id-5\" type=\"checkbox\" ><label for=\"sk-estimator-id-5\" class=\"sk-toggleable__label sk-toggleable__label-arrow\">estimator: KNeighborsClassifier</label><div class=\"sk-toggleable__content\"><pre>KNeighborsClassifier()</pre></div></div></div><div class=\"sk-serial\"><div class=\"sk-item\"><div class=\"sk-estimator sk-toggleable\"><input class=\"sk-toggleable__control sk-hidden--visually\" id=\"sk-estimator-id-6\" type=\"checkbox\" ><label for=\"sk-estimator-id-6\" class=\"sk-toggleable__label sk-toggleable__label-arrow\">KNeighborsClassifier</label><div class=\"sk-toggleable__content\"><pre>KNeighborsClassifier()</pre></div></div></div></div></div></div></div></div></div></div>"
      ],
      "text/plain": [
       "GridSearchCV(estimator=KNeighborsClassifier(),\n",
       "             param_grid={'n_neighbors': range(10, 20)})"
      ]
     },
     "execution_count": 33,
     "metadata": {},
     "output_type": "execute_result"
    }
   ],
   "source": [
    "#define the parameter grid\n",
    "param_grid = {\n",
    "    'n_neighbors': range(10, 20)\n",
    "}\n",
    "\n",
    "#instantiate knn \n",
    "knn = KNeighborsClassifier()\n",
    "\n",
    "#create a GridSearchCV instance\n",
    "grid_search_knn = GridSearchCV(knn, param_grid)\n",
    "\n",
    "#fit the GridSearchCV instance to the data\n",
    "grid_search_knn.fit(X_train_sc, y_train)"
   ]
  },
  {
   "cell_type": "code",
   "execution_count": 34,
   "id": "1d010c3e-a896-400d-93ae-54d0d1e86603",
   "metadata": {
    "tags": []
   },
   "outputs": [
    {
     "name": "stdout",
     "output_type": "stream",
     "text": [
      "0.6892592592592592\n",
      "0.6311111111111111\n"
     ]
    }
   ],
   "source": [
    "#compute the accuracy on the training data\n",
    "train_knn_acc = grid_search_knn.score(X_train_sc, y_train)\n",
    "\n",
    "#compute the accuracy on the validation data\n",
    "val_knn_acc = grid_search_knn.score(X_pred_sc, y_pred)\n",
    "\n",
    "print(train_knn_acc)\n",
    "print(val_knn_acc)"
   ]
  },
  {
   "cell_type": "code",
   "execution_count": 35,
   "id": "dbdc43ab-dd0d-49c4-830a-d666aa22f127",
   "metadata": {
    "tags": []
   },
   "outputs": [
    {
     "name": "stdout",
     "output_type": "stream",
     "text": [
      "[0.63518519 0.64444444 0.66111111 0.67407407 0.65925926]\n",
      "0.6548148148148147\n",
      "0.013588100983588234\n"
     ]
    }
   ],
   "source": [
    "scores = cross_val_score(grid_search_knn, X_train_sc, y_train, cv=5)\n",
    "print(scores)\n",
    "print(scores.mean())\n",
    "print(scores.std())"
   ]
  },
  {
   "cell_type": "code",
   "execution_count": 36,
   "id": "5fbbf3cc-19c2-49a8-9b86-dd4ffb2498eb",
   "metadata": {
    "tags": []
   },
   "outputs": [
    {
     "data": {
      "text/plain": [
       "(1350,)"
      ]
     },
     "execution_count": 36,
     "metadata": {},
     "output_type": "execute_result"
    }
   ],
   "source": [
    "predictions_knn = grid_search_knn.predict(X_pred_sc)\n",
    "predictions_knn.shape"
   ]
  },
  {
   "cell_type": "code",
   "execution_count": 37,
   "id": "b2f31725-dda4-41ab-aa67-21edfa4257a2",
   "metadata": {
    "tags": []
   },
   "outputs": [
    {
     "data": {
      "text/plain": [
       "(450,)"
      ]
     },
     "execution_count": 37,
     "metadata": {},
     "output_type": "execute_result"
    }
   ],
   "source": [
    "predictions_knn_X_test = grid_search_knn.predict(X_test)\n",
    "predictions_knn_X_test.shape"
   ]
  },
  {
   "cell_type": "markdown",
   "id": "4ff4e784-58c4-4395-8e0c-c8f1fe397470",
   "metadata": {
    "tags": []
   },
   "source": [
    "<font size=\"8\">Adaboost </font>\n",
    "<a id='destination_cell_16'></a>\n",
    "\n",
    "[Return to Table of Contents](#destination_cell_10)"
   ]
  },
  {
   "cell_type": "code",
   "execution_count": 38,
   "id": "e0ada003-4684-419c-99c7-d7c82f26f7a1",
   "metadata": {
    "tags": []
   },
   "outputs": [],
   "source": [
    "X=df_combined[[\n",
    "       'char_over_sent_title', 'char_over_word_title', 'word_over_sent_title',\n",
    "       'char_over_sent_selftext', 'char_over_word_selftext',\n",
    "       'word_over_sent_selftext']]\n",
    "y=df_combined['subreddit']\n",
    "\n",
    "#train test split\n",
    "X_train, X_val, y_train, y_val = train_test_split(X, y, test_size=0.4, random_state=42)\n",
    "X_pred, X_test, y_pred, y_test = train_test_split(X_val, y_val, test_size=0.25, random_state=42)"
   ]
  },
  {
   "cell_type": "code",
   "execution_count": 39,
   "id": "3560eea7-5b60-4a92-b554-9b484a81456e",
   "metadata": {},
   "outputs": [
    {
     "data": {
      "text/html": [
       "<style>#sk-container-id-3 {color: black;background-color: white;}#sk-container-id-3 pre{padding: 0;}#sk-container-id-3 div.sk-toggleable {background-color: white;}#sk-container-id-3 label.sk-toggleable__label {cursor: pointer;display: block;width: 100%;margin-bottom: 0;padding: 0.3em;box-sizing: border-box;text-align: center;}#sk-container-id-3 label.sk-toggleable__label-arrow:before {content: \"▸\";float: left;margin-right: 0.25em;color: #696969;}#sk-container-id-3 label.sk-toggleable__label-arrow:hover:before {color: black;}#sk-container-id-3 div.sk-estimator:hover label.sk-toggleable__label-arrow:before {color: black;}#sk-container-id-3 div.sk-toggleable__content {max-height: 0;max-width: 0;overflow: hidden;text-align: left;background-color: #f0f8ff;}#sk-container-id-3 div.sk-toggleable__content pre {margin: 0.2em;color: black;border-radius: 0.25em;background-color: #f0f8ff;}#sk-container-id-3 input.sk-toggleable__control:checked~div.sk-toggleable__content {max-height: 200px;max-width: 100%;overflow: auto;}#sk-container-id-3 input.sk-toggleable__control:checked~label.sk-toggleable__label-arrow:before {content: \"▾\";}#sk-container-id-3 div.sk-estimator input.sk-toggleable__control:checked~label.sk-toggleable__label {background-color: #d4ebff;}#sk-container-id-3 div.sk-label input.sk-toggleable__control:checked~label.sk-toggleable__label {background-color: #d4ebff;}#sk-container-id-3 input.sk-hidden--visually {border: 0;clip: rect(1px 1px 1px 1px);clip: rect(1px, 1px, 1px, 1px);height: 1px;margin: -1px;overflow: hidden;padding: 0;position: absolute;width: 1px;}#sk-container-id-3 div.sk-estimator {font-family: monospace;background-color: #f0f8ff;border: 1px dotted black;border-radius: 0.25em;box-sizing: border-box;margin-bottom: 0.5em;}#sk-container-id-3 div.sk-estimator:hover {background-color: #d4ebff;}#sk-container-id-3 div.sk-parallel-item::after {content: \"\";width: 100%;border-bottom: 1px solid gray;flex-grow: 1;}#sk-container-id-3 div.sk-label:hover label.sk-toggleable__label {background-color: #d4ebff;}#sk-container-id-3 div.sk-serial::before {content: \"\";position: absolute;border-left: 1px solid gray;box-sizing: border-box;top: 0;bottom: 0;left: 50%;z-index: 0;}#sk-container-id-3 div.sk-serial {display: flex;flex-direction: column;align-items: center;background-color: white;padding-right: 0.2em;padding-left: 0.2em;position: relative;}#sk-container-id-3 div.sk-item {position: relative;z-index: 1;}#sk-container-id-3 div.sk-parallel {display: flex;align-items: stretch;justify-content: center;background-color: white;position: relative;}#sk-container-id-3 div.sk-item::before, #sk-container-id-3 div.sk-parallel-item::before {content: \"\";position: absolute;border-left: 1px solid gray;box-sizing: border-box;top: 0;bottom: 0;left: 50%;z-index: -1;}#sk-container-id-3 div.sk-parallel-item {display: flex;flex-direction: column;z-index: 1;position: relative;background-color: white;}#sk-container-id-3 div.sk-parallel-item:first-child::after {align-self: flex-end;width: 50%;}#sk-container-id-3 div.sk-parallel-item:last-child::after {align-self: flex-start;width: 50%;}#sk-container-id-3 div.sk-parallel-item:only-child::after {width: 0;}#sk-container-id-3 div.sk-dashed-wrapped {border: 1px dashed gray;margin: 0 0.4em 0.5em 0.4em;box-sizing: border-box;padding-bottom: 0.4em;background-color: white;}#sk-container-id-3 div.sk-label label {font-family: monospace;font-weight: bold;display: inline-block;line-height: 1.2em;}#sk-container-id-3 div.sk-label-container {text-align: center;}#sk-container-id-3 div.sk-container {/* jupyter's `normalize.less` sets `[hidden] { display: none; }` but bootstrap.min.css set `[hidden] { display: none !important; }` so we also need the `!important` here to be able to override the default hidden behavior on the sphinx rendered scikit-learn.org. See: https://github.com/scikit-learn/scikit-learn/issues/21755 */display: inline-block !important;position: relative;}#sk-container-id-3 div.sk-text-repr-fallback {display: none;}</style><div id=\"sk-container-id-3\" class=\"sk-top-container\"><div class=\"sk-text-repr-fallback\"><pre>GridSearchCV(estimator=AdaBoostClassifier(random_state=42),\n",
       "             param_grid={&#x27;learning_rate&#x27;: [0.01, 0.1, 1.0]})</pre><b>In a Jupyter environment, please rerun this cell to show the HTML representation or trust the notebook. <br />On GitHub, the HTML representation is unable to render, please try loading this page with nbviewer.org.</b></div><div class=\"sk-container\" hidden><div class=\"sk-item sk-dashed-wrapped\"><div class=\"sk-label-container\"><div class=\"sk-label sk-toggleable\"><input class=\"sk-toggleable__control sk-hidden--visually\" id=\"sk-estimator-id-7\" type=\"checkbox\" ><label for=\"sk-estimator-id-7\" class=\"sk-toggleable__label sk-toggleable__label-arrow\">GridSearchCV</label><div class=\"sk-toggleable__content\"><pre>GridSearchCV(estimator=AdaBoostClassifier(random_state=42),\n",
       "             param_grid={&#x27;learning_rate&#x27;: [0.01, 0.1, 1.0]})</pre></div></div></div><div class=\"sk-parallel\"><div class=\"sk-parallel-item\"><div class=\"sk-item\"><div class=\"sk-label-container\"><div class=\"sk-label sk-toggleable\"><input class=\"sk-toggleable__control sk-hidden--visually\" id=\"sk-estimator-id-8\" type=\"checkbox\" ><label for=\"sk-estimator-id-8\" class=\"sk-toggleable__label sk-toggleable__label-arrow\">estimator: AdaBoostClassifier</label><div class=\"sk-toggleable__content\"><pre>AdaBoostClassifier(random_state=42)</pre></div></div></div><div class=\"sk-serial\"><div class=\"sk-item\"><div class=\"sk-estimator sk-toggleable\"><input class=\"sk-toggleable__control sk-hidden--visually\" id=\"sk-estimator-id-9\" type=\"checkbox\" ><label for=\"sk-estimator-id-9\" class=\"sk-toggleable__label sk-toggleable__label-arrow\">AdaBoostClassifier</label><div class=\"sk-toggleable__content\"><pre>AdaBoostClassifier(random_state=42)</pre></div></div></div></div></div></div></div></div></div></div>"
      ],
      "text/plain": [
       "GridSearchCV(estimator=AdaBoostClassifier(random_state=42),\n",
       "             param_grid={'learning_rate': [0.01, 0.1, 1.0]})"
      ]
     },
     "execution_count": 39,
     "metadata": {},
     "output_type": "execute_result"
    }
   ],
   "source": [
    "#define the parameter grid\n",
    "param_grid = {\n",
    "    'learning_rate': [0.01, 0.1, 1.0]\n",
    "}\n",
    " \n",
    "#instantiate adaboost\n",
    "ada = AdaBoostClassifier(random_state=42)\n",
    "\n",
    "#create a GridSearchCV \n",
    "grid_search_ada = GridSearchCV(ada, param_grid)\n",
    "\n",
    "#fit the GridSearchCV \n",
    "grid_search_ada.fit(X_train, y_train)"
   ]
  },
  {
   "cell_type": "code",
   "execution_count": 40,
   "id": "b356ef71-8189-487a-b78c-ae1d4243fef1",
   "metadata": {
    "tags": []
   },
   "outputs": [
    {
     "name": "stdout",
     "output_type": "stream",
     "text": [
      "0.6985185185185185\n"
     ]
    }
   ],
   "source": [
    "#compute the accuracy on the training data\n",
    "train_ada_acc = grid_search_ada.score(X_train, y_train)\n",
    "print(train_ada_acc)"
   ]
  },
  {
   "cell_type": "code",
   "execution_count": 41,
   "id": "8b2d8de7-027b-4dc8-84d3-2881dbd58c37",
   "metadata": {},
   "outputs": [
    {
     "name": "stdout",
     "output_type": "stream",
     "text": [
      "0.6962962962962963\n"
     ]
    }
   ],
   "source": [
    "# compute the accuracy on the validation data\n",
    "val_ada_acc = grid_search_ada.score(X_pred, y_pred)\n",
    "print(val_ada_acc)"
   ]
  },
  {
   "cell_type": "code",
   "execution_count": 42,
   "id": "307c13cc-9502-48b6-b9c8-edcc0bb6c274",
   "metadata": {},
   "outputs": [
    {
     "name": "stdout",
     "output_type": "stream",
     "text": [
      "[0.64259259 0.6462963  0.67777778 0.6537037  0.65      ]\n",
      "0.654074074074074\n",
      "0.0124170774920298\n"
     ]
    }
   ],
   "source": [
    "scores = cross_val_score(grid_search_ada, X_train_sc, y_train, cv=5)\n",
    "print(scores)\n",
    "print(scores.mean())\n",
    "print(scores.std())"
   ]
  },
  {
   "cell_type": "code",
   "execution_count": 43,
   "id": "41e40e77-5992-473e-a22c-63e8bc1a036e",
   "metadata": {},
   "outputs": [
    {
     "data": {
      "text/plain": [
       "(1350,)"
      ]
     },
     "execution_count": 43,
     "metadata": {},
     "output_type": "execute_result"
    }
   ],
   "source": [
    "predictions_ada = grid_search_ada.predict(X_pred)\n",
    "predictions_ada.shape"
   ]
  },
  {
   "cell_type": "code",
   "execution_count": 44,
   "id": "bfe73422-428e-459e-a388-1bf49b1183e1",
   "metadata": {},
   "outputs": [],
   "source": [
    "X_test = X_test.values"
   ]
  },
  {
   "cell_type": "code",
   "execution_count": 45,
   "id": "f4b08a18-4cae-43a1-ba7f-b295ba2fc471",
   "metadata": {
    "tags": []
   },
   "outputs": [
    {
     "name": "stderr",
     "output_type": "stream",
     "text": [
      "/Users/nicholassanso/anaconda3/envs/dsi/lib/python3.8/site-packages/sklearn/base.py:439: UserWarning: X does not have valid feature names, but AdaBoostClassifier was fitted with feature names\n",
      "  warnings.warn(\n"
     ]
    },
    {
     "data": {
      "text/plain": [
       "(450,)"
      ]
     },
     "execution_count": 45,
     "metadata": {},
     "output_type": "execute_result"
    }
   ],
   "source": [
    "predictions_ada_X_test = grid_search_ada.predict(X_test)\n",
    "predictions_ada_X_test.shape"
   ]
  },
  {
   "cell_type": "markdown",
   "id": "0ac67487-de0d-46a7-8cf2-f26fe48e3e24",
   "metadata": {
    "tags": []
   },
   "source": [
    "<font size=\"8\">Stacking </font>\n",
    "<a id='destination_cell_5'></a>\n",
    "\n",
    "[Return to Table of Contents](#destination_cell_10)"
   ]
  },
  {
   "cell_type": "code",
   "execution_count": 46,
   "id": "96201130-3f6d-4109-a774-ccaf16037332",
   "metadata": {
    "tags": []
   },
   "outputs": [],
   "source": [
    "#initialize\n",
    "le = LabelEncoder()\n",
    "\n",
    "#fit the LabelEncoder \n",
    "y_pred_encoded = le.fit_transform(y_pred)"
   ]
  },
  {
   "cell_type": "code",
   "execution_count": 47,
   "id": "46cb79e4-6977-4310-a773-ef275f7b5760",
   "metadata": {},
   "outputs": [],
   "source": [
    "#transform your test labels \n",
    "y_test_encoded = le.transform(y_test)"
   ]
  },
  {
   "cell_type": "code",
   "execution_count": 68,
   "id": "6754f22a-8cc6-42a8-9bbb-3b2df9f7abb5",
   "metadata": {
    "tags": []
   },
   "outputs": [],
   "source": [
    "#encode the predictions\n",
    "predictions_ada_encoded = le.transform(predictions_ada)\n",
    "predictions_knn_encoded = le.transform(predictions_knn)\n",
    "predictions_rf_encoded = le.transform(predictions_rf)\n",
    "predictions_cart_encoded = le.transform(predictions_cart)\n",
    "predictions_title_encoded = le.transform(predictions_title)\n",
    "predictions_selftext_encoded = le.transform(predictions_selftext)\n",
    "\n",
    "predictions_ada_X_test_encoded = le.transform(predictions_ada_X_test)\n",
    "predictions_knn_X_test_encoded = le.transform(predictions_knn_X_test)\n",
    "predictions_rf_X_test_encoded = le.transform(predictions_rf_X_test)\n",
    "predictions_cart_X_test_encoded = le.transform(predictions_cart_X_test)\n",
    "predictions_title_X_test_encoded = le.transform(predictions_title_X_test)\n",
    "predictions_selftext_X_test_encoded = le.transform(predictions_selftext_X_test)"
   ]
  },
  {
   "cell_type": "code",
   "execution_count": 69,
   "id": "5d935b99-c675-4df6-8343-133df14df314",
   "metadata": {
    "tags": []
   },
   "outputs": [],
   "source": [
    "#stack all encoded predictions together\n",
    "X_train_stacked= np.column_stack((predictions_ada_encoded, predictions_knn_encoded, predictions_rf_encoded, \n",
    "                                         predictions_cart_encoded, predictions_title_encoded, \n",
    "                                         predictions_selftext_encoded))\n",
    "#stack all encoded predictions together\n",
    "X_test_stacked= np.column_stack((predictions_ada_X_test_encoded, predictions_knn_X_test_encoded,\n",
    "                                 predictions_rf_X_test_encoded, predictions_cart_X_test_encoded, \n",
    "                                 predictions_title_X_test_encoded, predictions_selftext_X_test_encoded))"
   ]
  },
  {
   "cell_type": "markdown",
   "id": "a500d5de-a520-4a40-882c-3e0b8e48bd5e",
   "metadata": {},
   "source": [
    "### Stacked logistic Regression"
   ]
  },
  {
   "cell_type": "code",
   "execution_count": 70,
   "id": "6bf840ac-f2c9-4c05-9a17-831a0dcfd179",
   "metadata": {
    "tags": []
   },
   "outputs": [
    {
     "data": {
      "text/html": [
       "<style>#sk-container-id-5 {color: black;background-color: white;}#sk-container-id-5 pre{padding: 0;}#sk-container-id-5 div.sk-toggleable {background-color: white;}#sk-container-id-5 label.sk-toggleable__label {cursor: pointer;display: block;width: 100%;margin-bottom: 0;padding: 0.3em;box-sizing: border-box;text-align: center;}#sk-container-id-5 label.sk-toggleable__label-arrow:before {content: \"▸\";float: left;margin-right: 0.25em;color: #696969;}#sk-container-id-5 label.sk-toggleable__label-arrow:hover:before {color: black;}#sk-container-id-5 div.sk-estimator:hover label.sk-toggleable__label-arrow:before {color: black;}#sk-container-id-5 div.sk-toggleable__content {max-height: 0;max-width: 0;overflow: hidden;text-align: left;background-color: #f0f8ff;}#sk-container-id-5 div.sk-toggleable__content pre {margin: 0.2em;color: black;border-radius: 0.25em;background-color: #f0f8ff;}#sk-container-id-5 input.sk-toggleable__control:checked~div.sk-toggleable__content {max-height: 200px;max-width: 100%;overflow: auto;}#sk-container-id-5 input.sk-toggleable__control:checked~label.sk-toggleable__label-arrow:before {content: \"▾\";}#sk-container-id-5 div.sk-estimator input.sk-toggleable__control:checked~label.sk-toggleable__label {background-color: #d4ebff;}#sk-container-id-5 div.sk-label input.sk-toggleable__control:checked~label.sk-toggleable__label {background-color: #d4ebff;}#sk-container-id-5 input.sk-hidden--visually {border: 0;clip: rect(1px 1px 1px 1px);clip: rect(1px, 1px, 1px, 1px);height: 1px;margin: -1px;overflow: hidden;padding: 0;position: absolute;width: 1px;}#sk-container-id-5 div.sk-estimator {font-family: monospace;background-color: #f0f8ff;border: 1px dotted black;border-radius: 0.25em;box-sizing: border-box;margin-bottom: 0.5em;}#sk-container-id-5 div.sk-estimator:hover {background-color: #d4ebff;}#sk-container-id-5 div.sk-parallel-item::after {content: \"\";width: 100%;border-bottom: 1px solid gray;flex-grow: 1;}#sk-container-id-5 div.sk-label:hover label.sk-toggleable__label {background-color: #d4ebff;}#sk-container-id-5 div.sk-serial::before {content: \"\";position: absolute;border-left: 1px solid gray;box-sizing: border-box;top: 0;bottom: 0;left: 50%;z-index: 0;}#sk-container-id-5 div.sk-serial {display: flex;flex-direction: column;align-items: center;background-color: white;padding-right: 0.2em;padding-left: 0.2em;position: relative;}#sk-container-id-5 div.sk-item {position: relative;z-index: 1;}#sk-container-id-5 div.sk-parallel {display: flex;align-items: stretch;justify-content: center;background-color: white;position: relative;}#sk-container-id-5 div.sk-item::before, #sk-container-id-5 div.sk-parallel-item::before {content: \"\";position: absolute;border-left: 1px solid gray;box-sizing: border-box;top: 0;bottom: 0;left: 50%;z-index: -1;}#sk-container-id-5 div.sk-parallel-item {display: flex;flex-direction: column;z-index: 1;position: relative;background-color: white;}#sk-container-id-5 div.sk-parallel-item:first-child::after {align-self: flex-end;width: 50%;}#sk-container-id-5 div.sk-parallel-item:last-child::after {align-self: flex-start;width: 50%;}#sk-container-id-5 div.sk-parallel-item:only-child::after {width: 0;}#sk-container-id-5 div.sk-dashed-wrapped {border: 1px dashed gray;margin: 0 0.4em 0.5em 0.4em;box-sizing: border-box;padding-bottom: 0.4em;background-color: white;}#sk-container-id-5 div.sk-label label {font-family: monospace;font-weight: bold;display: inline-block;line-height: 1.2em;}#sk-container-id-5 div.sk-label-container {text-align: center;}#sk-container-id-5 div.sk-container {/* jupyter's `normalize.less` sets `[hidden] { display: none; }` but bootstrap.min.css set `[hidden] { display: none !important; }` so we also need the `!important` here to be able to override the default hidden behavior on the sphinx rendered scikit-learn.org. See: https://github.com/scikit-learn/scikit-learn/issues/21755 */display: inline-block !important;position: relative;}#sk-container-id-5 div.sk-text-repr-fallback {display: none;}</style><div id=\"sk-container-id-5\" class=\"sk-top-container\"><div class=\"sk-text-repr-fallback\"><pre>LogisticRegression(C=0.1, random_state=42)</pre><b>In a Jupyter environment, please rerun this cell to show the HTML representation or trust the notebook. <br />On GitHub, the HTML representation is unable to render, please try loading this page with nbviewer.org.</b></div><div class=\"sk-container\" hidden><div class=\"sk-item\"><div class=\"sk-estimator sk-toggleable\"><input class=\"sk-toggleable__control sk-hidden--visually\" id=\"sk-estimator-id-11\" type=\"checkbox\" checked><label for=\"sk-estimator-id-11\" class=\"sk-toggleable__label sk-toggleable__label-arrow\">LogisticRegression</label><div class=\"sk-toggleable__content\"><pre>LogisticRegression(C=0.1, random_state=42)</pre></div></div></div></div></div>"
      ],
      "text/plain": [
       "LogisticRegression(C=0.1, random_state=42)"
      ]
     },
     "execution_count": 70,
     "metadata": {},
     "output_type": "execute_result"
    }
   ],
   "source": [
    "# instantiate\n",
    "lr_stacked = LogisticRegression(C=0.1, random_state=42)\n",
    "lr_stacked.fit(X_train_stacked, y_pred_encoded)"
   ]
  },
  {
   "cell_type": "markdown",
   "id": "fb1347ff-7956-4833-b087-23db85f68a2d",
   "metadata": {},
   "source": [
    "The large dropoff in accuracy between the training dataset and the test data indicates that the model is deeply overfit."
   ]
  },
  {
   "cell_type": "code",
   "execution_count": 53,
   "id": "322b8f35-0ed1-4d70-ade6-67fe6f85a499",
   "metadata": {
    "tags": []
   },
   "outputs": [
    {
     "name": "stdout",
     "output_type": "stream",
     "text": [
      "0.7762962962962963\n"
     ]
    }
   ],
   "source": [
    "print(lr_stacked.score(X_train_stacked,y_pred_encoded))"
   ]
  },
  {
   "cell_type": "code",
   "execution_count": 71,
   "id": "99bee640-1e12-4007-87c0-9151946aa500",
   "metadata": {
    "tags": []
   },
   "outputs": [
    {
     "name": "stdout",
     "output_type": "stream",
     "text": [
      "0.7911111111111111\n"
     ]
    }
   ],
   "source": [
    "print(lr_stacked.score(X_test_stacked, y_test_encoded))"
   ]
  },
  {
   "cell_type": "code",
   "execution_count": 72,
   "id": "a15bab3e-6089-4513-bf84-5d697ded0d1d",
   "metadata": {
    "tags": []
   },
   "outputs": [
    {
     "name": "stdout",
     "output_type": "stream",
     "text": [
      "[0.81111111 0.75925926 0.77407407 0.75555556 0.78518519]\n",
      "0.7770370370370371\n",
      "0.020068469902435656\n"
     ]
    }
   ],
   "source": [
    "scores = cross_val_score(lr_stacked, X_train_stacked, y_pred_encoded, cv=5)\n",
    "print(scores)\n",
    "print(scores.mean())\n",
    "print(scores.std())"
   ]
  },
  {
   "cell_type": "code",
   "execution_count": 84,
   "id": "0974ee39-33d5-45f0-b1b9-b368d9d48204",
   "metadata": {
    "tags": []
   },
   "outputs": [
    {
     "name": "stdout",
     "output_type": "stream",
     "text": [
      "[0.77777778 0.87777778 0.77777778 0.84444444 0.72222222]\n",
      "0.8\n",
      "0.05488484015657097\n"
     ]
    }
   ],
   "source": [
    "scores = cross_val_score(lr_stacked, X_test_stacked, y_test_encoded, cv=5)\n",
    "print(scores)\n",
    "print(scores.mean())\n",
    "print(scores.std())"
   ]
  },
  {
   "cell_type": "markdown",
   "id": "56d76ff5-8e57-4e56-97e3-1bffddde3fcd",
   "metadata": {
    "tags": []
   },
   "source": [
    "### Stacked AdaBoost"
   ]
  },
  {
   "cell_type": "code",
   "execution_count": 87,
   "id": "4f54e7e2-ec09-4ce9-9321-17a197e43185",
   "metadata": {
    "tags": []
   },
   "outputs": [
    {
     "name": "stdout",
     "output_type": "stream",
     "text": [
      "{'learning_rate': 0.1}\n"
     ]
    }
   ],
   "source": [
    "#define the parameter grid\n",
    "param_grid = {\n",
    "    'learning_rate': [0.01, 0.1, 1.0, 2.0]\n",
    "}\n",
    " \n",
    "#instantiate adaboost\n",
    "ada = AdaBoostClassifier(random_state=42)\n",
    "\n",
    "#create a GridSearchCV \n",
    "grid_search_ada = GridSearchCV(ada, param_grid)\n",
    "\n",
    "#fit the GridSearchCV \n",
    "grid_search_ada.fit(X_train_stacked, y_pred_encoded)\n",
    "\n",
    "print(grid_search_ada.best_params_);"
   ]
  },
  {
   "cell_type": "code",
   "execution_count": 75,
   "id": "b14e8932-752f-49a1-95a5-4d2fd194257e",
   "metadata": {
    "tags": []
   },
   "outputs": [
    {
     "name": "stdout",
     "output_type": "stream",
     "text": [
      "0.7748148148148148\n"
     ]
    }
   ],
   "source": [
    "print(grid_search_ada.score(X_train_stacked,y_pred_encoded))"
   ]
  },
  {
   "cell_type": "code",
   "execution_count": 77,
   "id": "e177764a-d801-48cc-a621-43dfc06410bb",
   "metadata": {
    "tags": []
   },
   "outputs": [
    {
     "name": "stdout",
     "output_type": "stream",
     "text": [
      "0.8022222222222222\n"
     ]
    }
   ],
   "source": [
    "print(grid_search_ada.score(X_test_stacked, y_test_encoded))"
   ]
  },
  {
   "cell_type": "code",
   "execution_count": 82,
   "id": "99ea4592-bd8a-4a53-a916-5c8292ae178a",
   "metadata": {
    "tags": []
   },
   "outputs": [
    {
     "name": "stdout",
     "output_type": "stream",
     "text": [
      "[0.80740741 0.75555556 0.77407407 0.75555556 0.78518519]\n",
      "0.7755555555555556\n",
      "0.019542082901145095\n"
     ]
    }
   ],
   "source": [
    "scores = cross_val_score(grid_search_ada, X_train_stacked, y_pred_encoded, cv=5)\n",
    "print(scores)\n",
    "print(scores.mean())\n",
    "print(scores.std())"
   ]
  },
  {
   "cell_type": "code",
   "execution_count": 83,
   "id": "dd12c150-a998-4ce9-8ad6-c08c7b365a44",
   "metadata": {
    "tags": []
   },
   "outputs": [
    {
     "name": "stdout",
     "output_type": "stream",
     "text": [
      "[0.77777778 0.84444444 0.76666667 0.82222222 0.72222222]\n",
      "0.7866666666666667\n",
      "0.04297573245736381\n"
     ]
    }
   ],
   "source": [
    "scores = cross_val_score(grid_search_ada, X_test_stacked, y_test_encoded, cv=5)\n",
    "print(scores)\n",
    "print(scores.mean())\n",
    "print(scores.std())"
   ]
  }
 ],
 "metadata": {
  "kernelspec": {
   "display_name": "Python [conda env:dsi] *",
   "language": "python",
   "name": "conda-env-dsi-py"
  },
  "language_info": {
   "codemirror_mode": {
    "name": "ipython",
    "version": 3
   },
   "file_extension": ".py",
   "mimetype": "text/x-python",
   "name": "python",
   "nbconvert_exporter": "python",
   "pygments_lexer": "ipython3",
   "version": "3.8.16"
  }
 },
 "nbformat": 4,
 "nbformat_minor": 5
}
